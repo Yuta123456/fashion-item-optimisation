{
 "cells": [
  {
   "cell_type": "code",
   "execution_count": 1,
   "id": "02a1ccc2",
   "metadata": {},
   "outputs": [],
   "source": [
    "# レイヤーの個数 ex) tops, pants, shoes -> LAYER = 3\n",
    "import sys\n",
    "import time\n",
    "from constants.optimisation import EPSILON, LAYER, LAYER_NAME, TIME_STEP\n",
    "from util.calc_closet_score import calc_closet_score\n",
    "from util.init_closet import init_closet\n",
    "from util.record_data import record_data\n",
    "from util_class.score_estimater import ScoreEstimater\n",
    "\n",
    "from util.select_max_incremental_item import select_max_incremental_item\n",
    "import tomotopy as tp\n",
    "from util.init_all_item import init_all_item\n",
    "import torch\n",
    "from torchvision import models\n",
    "import torch.nn as nn\n",
    "import random"
   ]
  },
  {
   "cell_type": "code",
   "execution_count": 2,
   "id": "f3d3b7d0",
   "metadata": {},
   "outputs": [
    {
     "data": {
      "text/plain": [
       "<All keys matched successfully>"
      ]
     },
     "execution_count": 2,
     "metadata": {},
     "output_type": "execute_result"
    }
   ],
   "source": [
    "# start = time.time()\n",
    "original_all_items = init_all_item(LAYER, LAYER_NAME, 200)\n",
    "\n",
    "# FashionItemの初期化\n",
    "\n",
    "topic_model = tp.LDAModel.load('lda_model_topic_10.bin')\n",
    "similarity_model = models.resnet18(pretrained=True)\n",
    "num_ftrs = similarity_model.fc.in_features\n",
    "\n",
    "similarity_model.fc = nn.Linear(num_ftrs, 738)\n",
    "\n",
    "similarity_model.load_state_dict(torch.load('model.pth'))"
   ]
  },
  {
   "cell_type": "code",
   "execution_count": null,
   "id": "bf761673",
   "metadata": {},
   "outputs": [],
   "source": [
    "with open(\"data/com_e.txt\", mode=\"w\") as f:\n",
    "    f.write(\"\")\n",
    "with open(\"data/sim.txt\", mode=\"w\") as f:\n",
    "    f.write(\"\")\n",
    "with open(\"data/ver.txt\", mode=\"w\") as f:\n",
    "    f.write(\"\")\n",
    "with open(\"data/mul.txt\", mode=\"w\") as f:\n",
    "    f.write(\"\")\n",
    "print(\"data clear run\")\n"
   ]
  },
  {
   "cell_type": "code",
   "execution_count": 3,
   "id": "1e97283f",
   "metadata": {},
   "outputs": [],
   "source": [
    "COUNT = 10000\n",
    "CLOSET_ITEM_NUM = 40\n",
    "model = ScoreEstimater(topic_model, [[], [], []], similarity_model)"
   ]
  },
  {
   "cell_type": "code",
   "execution_count": null,
   "id": "00ef7f9d",
   "metadata": {},
   "outputs": [
    {
     "name": "stdout",
     "output_type": "stream",
     "text": [
      "com:11.89 ver:2.88 sim:4.01 mul:2.36\n",
      "com:11.91 ver:2.85 sim:2.55 mul:2.82\n",
      "com:15.67 ver:2.98 sim:4.24 mul:5.06\n",
      "com:13.33 ver:2.88 sim:4.26 mul:5.06\n",
      "com:11.60 ver:2.85 sim:2.23 mul:2.08\n",
      "0.05% 終了しました\n",
      "com:16.50 ver:2.80 sim:1.55 mul:5.06\n",
      "com:14.09 ver:2.85 sim:1.55 mul:5.06\n",
      "com:14.52 ver:2.90 sim:4.47 mul:4.69\n",
      "com:12.16 ver:2.67 sim:5.72 mul:3.10\n",
      "com:12.98 ver:2.73 sim:4.03 mul:3.57\n",
      "0.1% 終了しました\n"
     ]
    }
   ],
   "source": [
    "for cnt in range(COUNT):\n",
    "    all_items = [random.sample(original_all_items[i], CLOSET_ITEM_NUM) for i in range(LAYER)]\n",
    "    # closet.append(random.sample(all_items[i], 4))\n",
    "    select_items = init_closet(all_items, TIME_STEP)\n",
    "    model.set_all_items(all_items)\n",
    "    delta_obj = EPSILON + 1\n",
    "    pre_obj = 0\n",
    "    # ここから最適化\n",
    "    while delta_obj >= EPSILON:\n",
    "        for layer in range(LAYER):\n",
    "            select_items[layer] = []\n",
    "            for t in range(TIME_STEP):\n",
    "                sigma, additional_item = select_max_incremental_item(select_items, all_items,layer, model)\n",
    "                select_items[layer].append(additional_item)\n",
    "        cur_obj = sum(calc_closet_score(select_items, model))\n",
    "        delta_obj = cur_obj - pre_obj\n",
    "        pre_obj = cur_obj\n",
    "\n",
    "    score = calc_closet_score(select_items, model)\n",
    "    record_data(\"data/com_new2.txt\", score[0])\n",
    "    record_data(\"data/ver_new2.txt\", score[1])\n",
    "    record_data(\"data/sim_new2.txt\", score[2])\n",
    "    record_data(\"data/mul_new2.txt\", score[3])\n",
    "    print(\"com:{:.2f} ver:{:.2f} sim:{:.2f} mul:{:.2f}\".format(*score))\n",
    "    cnt += 1\n",
    "    if (cnt % 5 == 0):\n",
    "        print(f\"{cnt * 100 / COUNT}% 終了しました\")"
   ]
  }
 ],
 "metadata": {
  "kernelspec": {
   "display_name": "Python 3 (ipykernel)",
   "language": "python",
   "name": "python3"
  },
  "language_info": {
   "codemirror_mode": {
    "name": "ipython",
    "version": 3
   },
   "file_extension": ".py",
   "mimetype": "text/x-python",
   "name": "python",
   "nbconvert_exporter": "python",
   "pygments_lexer": "ipython3",
   "version": "3.9.7"
  }
 },
 "nbformat": 4,
 "nbformat_minor": 5
}
